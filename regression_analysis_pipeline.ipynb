
{
 "cells": [
  {
   "cell_type": "markdown",
   "metadata": {},
   "source": [
    "# Regression Analysis Pipeline\n",
    "This notebook performs a regression analysis using Python libraries: pandas, numpy, scipy, statsmodels, matplotlib, and seaborn."
   ]
  },
  {
   "cell_type": "code",
   "execution_count": null,
   "metadata": {},
   "outputs": [],
   "source": [
    "# 1. Install libraries (uncomment if running locally)\n",
    "# !pip install pandas numpy scipy statsmodels matplotlib seaborn"
   ]
  },
  {
   "cell_type": "code",
   "execution_count": null,
   "metadata": {},
   "outputs": [],
   "source": [
    "# 2. Import libraries\n",
    "import pandas as pd\n",
    "import numpy as np\n",
    "import scipy.optimize as opt\n",
    "import statsmodels.api as sm\n",
    "import matplotlib.pyplot as plt\n",
    "import seaborn as sns\n",
    "from sklearn.preprocessing import StandardScaler"
   ]
  },
  {
   "cell_type": "code",
   "execution_count": null,
   "metadata": {},
   "outputs": [],
   "source": [
    "# 3. Create synthetic dataset\n",
    "np.random.seed(42)\n",
    "hours_studied = np.random.normal(5, 2, 100)\n",
    "sleep_hours = np.random.normal(7, 1, 100)\n",
    "exam_score = 10 * hours_studied + 3 * sleep_hours + np.random.normal(0, 5, 100)\n",
    "df = pd.DataFrame({\n",
    "    'hours_studied': hours_studied,\n",
    "    'sleep_hours': sleep_hours,\n",
    "    'exam_score': exam_score\n",
    "})\n",
    "df.head()"
   ]
  },
  {
   "cell_type": "code",
   "execution_count": null,
   "metadata": {},
   "outputs": [],
   "source": [
    "# 4. Check for missing values and outliers\n",
    "print(df.isnull().sum())\n",
    "print("\nOutliers:")\n",
    "print(df.describe())\n",
    "df.to_csv('cleaned_data.csv', index=False)"
   ]
  },
  {
   "cell_type": "code",
   "execution_count": null,
   "metadata": {},
   "outputs": [],
   "source": [
    "# 5. NumPy: Correlation matrix and standardization\n",
    "correlation = df[['hours_studied', 'sleep_hours']].corr()\n",
    "print("Correlation Matrix:\n", correlation)\n",
    "\n",
    "scaler = StandardScaler()\n",
    "df[['hours_studied', 'sleep_hours']] = scaler.fit_transform(df[['hours_studied', 'sleep_hours']])\n",
    "df.head()"
   ]
  },
  {
   "cell_type": "code",
   "execution_count": null,
   "metadata": {},
   "outputs": [],
   "source": [
    "# 6. SciPy: Custom linear regression\n",
    "def model_error(params):\n",
    "    intercept, coef1, coef2 = params\n",
    "    predictions = intercept + coef1 * df['hours_studied'] + coef2 * df['sleep_hours']\n",
    "    return np.mean((df['exam_score'] - predictions)**2)\n",
    "\n",
    "initial_guess = [0, 0, 0]\n",
    "result = opt.minimize(model_error, initial_guess)\n",
    "intercept, coef1, coef2 = result.x\n",
    "print(f"Optimized coefficients: Intercept={intercept:.2f}, hours_studied={coef1:.2f}, sleep_hours={coef2:.2f}")"
   ]
  },
  {
   "cell_type": "code",
   "execution_count": null,
   "metadata": {},
   "outputs": [],
   "source": [
    "# 7. Statsmodels linear regression\n",
    "X = sm.add_constant(df[['hours_studied', 'sleep_hours']])\n",
    "y = df['exam_score']\n",
    "model = sm.OLS(y, X).fit()\n",
    "print(model.summary())"
   ]
  },
  {
   "cell_type": "code",
   "execution_count": null,
   "metadata": {},
   "outputs": [],
   "source": [
    "# 8. Visualization with matplotlib\n",
    "plt.figure(figsize=(8, 6))\n",
    "sns.regplot(x='hours_studied', y='exam_score', data=df)\n",
    "plt.title('Regression: Hours Studied vs. Exam Score')\n",
    "plt.savefig('regression_plot.png')\n",
    "plt.show()"
   ]
  },
  {
   "cell_type": "code",
   "execution_count": null,
   "metadata": {},
   "outputs": [],
   "source": [
    "# 9. Advanced visualization with seaborn\n",
    "sns.pairplot(df)\n",
    "plt.savefig('pairplot.png')\n",
    "plt.show()\n",
    "\n",
    "residuals = y - model.predict(X)\n",
    "sns.residplot(x=model.predict(X), y=residuals, lowess=True)\n",
    "plt.xlabel('Predicted')\n",
    "plt.ylabel('Residuals')\n",
    "plt.title('Residual Plot')\n",
    "plt.savefig('residual_plot.png')\n",
    "plt.show()"
   ]
  }
 ],
 "metadata": {
  "kernelspec": {
   "display_name": "Python 3",
   "language": "python",
   "name": "python3"
  },
  "language_info": {
   "name": "python",
   "version": ""
  }
 },
 "nbformat": 4,
 "nbformat_minor": 2
}
